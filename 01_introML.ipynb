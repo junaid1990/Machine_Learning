{
 "cells": [
  {
   "cell_type": "markdown",
   "metadata": {},
   "source": [
    "# **MACHINE LEARNING** IS ABOUT **DATA DRIVEN DECISION MAKING**\n",
    "It has two parts;\n",
    "- TRAINING\n",
    "- PREDICTION"
   ]
  },
  {
   "cell_type": "markdown",
   "metadata": {},
   "source": [
    "Machine learning is a method of data analysis that automates analytical model building. It is a branch of artificial intelligence based on the idea that systems can learn from data, identify patterns and make decisions with minimal human intervention. It works as;\n",
    "- data\n",
    "- learning / training\n",
    "- model \n",
    "- prediction\n",
    "- decision\n",
    "Its goal and usage is to build new and/or leverage existing algorithms to learn from data, in order to build generalizable models that give accurate predictions, or to find patterns, particularly with new and unseen similar data."
   ]
  },
  {
   "cell_type": "markdown",
   "metadata": {},
   "source": [
    "There are four types of machine learning algorithms: \n",
    "- **supervised**\n",
    "  - It is defined by its use of labeled datasets to train algorithms that to classify data or predict outcomes accurately. As input data is fed into the model, it adjusts its weights until the model has been fitted appropriately, which occurs as part of the cross validation process. Supervised learning helps organizations solve for a variety of real-world problems at scale, such as classifying spam in a separate folder from your inbox.\n",
    "- **semi-supervised**\n",
    "  -  is an approach to machine learning that combines a small amount of labeled data with a large amount of unlabeled data during training. Semi-supervised learning falls between unsupervised learning (with no labeled training data) and supervised learning (with only labeled training data). It is a special instance of weak supervision.\n",
    "- **unsupervised**\n",
    "  - is a machine learning technique in which the users do not need to supervise the model. Instead, it allows the model to work on its own to discover patterns and information that was previously undetected. It mainly deals with the unlabelled data.\n",
    "  - Unsupervised learning algorithms include clustering (K-means clustering,probabilictic clustering,\n",
    "  - hieratical clustring), anomaly detection, neural networks, etc.\n",
    "- **reinforcement**\n",
    "  - There is no supervisor, only a real number or reward signal\n",
    "  - Sequential decision making\n",
    "  - time plays a crucial role in Reinforcement problems\n",
    "  - Feedback is always delayed, not instantaneous\n",
    "  - Agent’s actions determine the subsequent data it receives\n",
    "  - Two types of reinforcement learning are 1) Positive 2) Negative\n",
    "  - Two widely used learning model are 1) Markov Decision Process 2) Q learning"
   ]
  },
  {
   "cell_type": "markdown",
   "metadata": {},
   "source": [
    "- **supervised**\n",
    "Supervised learning uses a training set to teach models to yield the desired output. This training dataset includes inputs and correct outputs, which allow the model to learn over time. The algorithm measures its accuracy through the loss function, adjusting until the error has been sufficiently minimized.\n",
    "\n",
    "Supervised learning can be separated into two types of problems when data mining—classification and regression:\n",
    "\n",
    "- **Classification** uses an algorithm to accurately assign test data into specific **categories**. It recognizes specific entities within the dataset and attempts to draw some conclusions on how those entities should be labeled or defined. Common classification algorithms are linear classifiers, support vector machines (SVM), decision trees, k-nearest neighbor, and random forest, which are described in more detail below.\n",
    "\n",
    "\n",
    "- **Regression** is used to understand the relationship between dependent and independent **numeric** variables. It is commonly used to make projections, such as for sales revenue for a given business. Linear regression, logistical regression, and polynomial regression are popular regression algorithms."
   ]
  }
 ],
 "metadata": {
  "interpreter": {
   "hash": "97add1490c5f01135f3bb7e94642f4624b587c7043609d018f9a7eb9f44698e7"
  },
  "kernelspec": {
   "display_name": "Python 3.10.1 64-bit",
   "language": "python",
   "name": "python3"
  },
  "language_info": {
   "name": "python",
   "version": "3.10.1"
  },
  "orig_nbformat": 4
 },
 "nbformat": 4,
 "nbformat_minor": 2
}
