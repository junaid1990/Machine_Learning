{
 "cells": [
  {
   "cell_type": "markdown",
   "metadata": {},
   "source": [
    "# Logistic Regression in Machine Learning\n",
    "- popular Machine Learning algorithms of Supervised Learning technique. \n",
    "- It is used for predicting the categorical dependent variable using a given set of independent variables.\n",
    "- the outcome must be a categorical or discrete value. It can be either Yes or No, 0 or 1, true or False, etc. but instead of giving the exact value as 0 and 1, it gives the probabilistic values which lie between 0 and 1.\n",
    "- similar to the Linear Regression but Logistic regression is used for solving the classification problems.\n",
    "- In Logistic regression, instead of fitting a regression line, we fit an \"S\" shaped logistic function, which predicts two maximum values (0 or 1).\n",
    "- The curve from the logistic function indicates the likelihood of something such as whether the cells are cancerous or not, a mouse is obese or not based on its weight, etc.\n",
    "- ![image](pics/logisticR.png)\n",
    "## Logistic Function (Sigmoid Function):\n",
    "- The sigmoid function is a mathematical function used to map the predicted values to probabilities.\n",
    "- It maps any real value into another value within a range of 0 and 1.\n",
    "- The value of the logistic regression must be between 0 and 1, which cannot go beyond this limit, so it forms a curve like the \"S\" form. The S-form curve is called the Sigmoid function or the logistic function.\n",
    "- In logistic regression, we use the concept of the threshold value, which defines the probability of either 0 or 1. Such as values above the threshold value tends to 1, and a value below the threshold values tends to 0."
   ]
  },
  {
   "cell_type": "markdown",
   "metadata": {},
   "source": [
    "## Steps in Logistic Regression:\n",
    "\n",
    "1. Data Pre-processing step\n",
    "2. Fitting Logistic Regression to the Training set\n",
    "3. Predicting the test result\n",
    "4. Test accuracy of the result(Creation of Confusion matrix)\n",
    "5. Visualizing the test set result."
   ]
  },
  {
   "cell_type": "markdown",
   "metadata": {},
   "source": [
    ">**R squared** is the proportion of the variation in the dependent variable that is predictable from the independent variable"
   ]
  },
  {
   "cell_type": "markdown",
   "metadata": {},
   "source": [
    " \n",
    "> **least squares** is a standard approach in regression analysis to approximate the solution of overdetermined systems by minimizing the sum of the squares of the residuals made in the results of each individual equation"
   ]
  },
  {
   "cell_type": "markdown",
   "metadata": {},
   "source": [
    "> **residual error** is the difference between a group of values observed and their arithmetical mean"
   ]
  },
  {
   "cell_type": "markdown",
   "metadata": {},
   "source": [
    "~~~\n",
    "### linear regression use least squared method,to minimize mean residual error,R squared tells accuracy.\n",
    "**Vs**\n",
    "### logistic regression dose not use least squared nor R squared, instead it uses probability and likelihood.\n",
    "~~~"
   ]
  },
  {
   "cell_type": "markdown",
   "metadata": {},
   "source": [
    "> **likelihood** is the joint probability distribution(jpd) of the dataset given as a function of the parameter.\n",
    "> \n",
    "> **Probability** is about a finite set of possible outcomes, given a probability. Likelihood is about an infinite set of possible probabilities, given an outcome"
   ]
  },
  {
   "cell_type": "markdown",
   "metadata": {},
   "source": [
    "> **Activation Function** Is just a thing function that you use to get the output of node. It is also known as Transfer Function.\n",
    "> It is used to determine the output of neural network like yes or no. It maps the resulting values in between 0 to 1 or -1 to 1 etc. (depending upon the function)\n",
    "> basically divided into 2 types-\n",
    "1. Linear Activation Function\n",
    "   1. It doesn’t help with the complexity or various parameters of usual data \n",
    "   2. output of the functions will not be confined between any range.\n",
    "2. Non-linear Activation Functions\n",
    "   1. Sigmoid or Logistic Activation Function\n",
    "   2. Tanh or hyperbolic tangent Activation Function\n",
    "   3. ReLU (Rectified Linear Unit) Activation Function\n",
    "   4. Leaky ReLU\n",
    "   5. many more"
   ]
  },
  {
   "cell_type": "markdown",
   "metadata": {},
   "source": [
    "![image](pics/acti.fun.png)"
   ]
  },
  {
   "cell_type": "markdown",
   "metadata": {},
   "source": []
  }
 ],
 "metadata": {
  "interpreter": {
   "hash": "0d69e6d194a9951b421559ac9f165de68eeed9895d5d287c2d9854b2dca19775"
  },
  "kernelspec": {
   "display_name": "Python 3 (ipykernel)",
   "language": "python",
   "name": "python3"
  },
  "language_info": {
   "codemirror_mode": {
    "name": "ipython",
    "version": 3
   },
   "file_extension": ".py",
   "mimetype": "text/x-python",
   "name": "python",
   "nbconvert_exporter": "python",
   "pygments_lexer": "ipython3",
   "version": "3.9.7"
  }
 },
 "nbformat": 4,
 "nbformat_minor": 2
}
