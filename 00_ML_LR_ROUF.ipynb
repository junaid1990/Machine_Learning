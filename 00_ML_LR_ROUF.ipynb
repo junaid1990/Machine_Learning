{
 "cells": [
  {
   "cell_type": "markdown",
   "metadata": {},
   "source": [
    "##Simple Linear Regression have to do 5 steps as per below:\n",
    "1. Importing the dataset.\n",
    "2. Splitting dataset into training set and testing set (2 dimensions of X and y per each set). Normally, the testing set should be 5% to 30% of dataset.\n",
    "3. Visualize the training set and testing set to double check (you can bypass this step if you want).\n",
    "4. Initializing the regression model and fitting it using training set (both X and y).\n",
    "5. Let’s predict!!"
   ]
  },
  {
   "cell_type": "code",
   "execution_count": 1,
   "metadata": {},
   "outputs": [],
   "source": [
    "#install libararies needed\n",
    "# pip install scikit-learn"
   ]
  },
  {
   "cell_type": "code",
   "execution_count": 2,
   "metadata": {},
   "outputs": [],
   "source": [
    "#import libararies\n",
    "import numpy as np\n",
    "import matplotlib.pyplot as plt\n",
    "import pandas as pd\n",
    "from sklearn.model_selection import train_test_split\n",
    "\n",
    "# Importing the dataset\n",
    "dataset = pd.read_csv(r\"C:\\Users\\Azka\\OneDrive\\Desktop\\xyz\\4_5956172861256239923.csv\",encoding = \"Latin-1\")"
   ]
  },
  {
   "cell_type": "code",
   "execution_count": 3,
   "metadata": {},
   "outputs": [
    {
     "data": {
      "text/plain": [
       "Index(['Gender', 'Location', 'Age', 'Qualification_completed',\n",
       "       'field_of_study', 'Purpose_for_chilla', 'What are you?', 'Blood group ',\n",
       "       'Which mobile sim do you use', 'Prepaid or Postpaid',\n",
       "       'Which PC are you using?', 'Do you wear glasses?',\n",
       "       'When did you write your first line of code?',\n",
       "       'Your favorite programming language?', 'Marital Status?',\n",
       "       'Are you Vaccinated?', 'Where do you live?',\n",
       "       'Research/Working experience (Float/Int) years',\n",
       "       'Age (years)-Float/Int', 'Your Weight in kg? (float)',\n",
       "       'Height in cm? Freelancer- (Float)',\n",
       "       'How many hours you code a day? (int) e.g: 5,4,3',\n",
       "       'Light kitni der band hti hy? int'],\n",
       "      dtype='object')"
      ]
     },
     "execution_count": 3,
     "metadata": {},
     "output_type": "execute_result"
    }
   ],
   "source": [
    "#saw columns\n",
    "dataset.columns"
   ]
  },
  {
   "cell_type": "code",
   "execution_count": 4,
   "metadata": {},
   "outputs": [],
   "source": [
    "#drop all columns ecept 2 quantitative columns\n",
    "ds=dataset.drop(['Gender', 'Location', 'Age', 'Qualification_completed',\n",
    "       'field_of_study', 'Purpose_for_chilla', 'What are you?', 'Blood group ',\n",
    "       'Which mobile sim do you use', 'Prepaid or Postpaid',\n",
    "       'Which PC are you using?', 'Do you wear glasses?',\n",
    "       'When did you write your first line of code?',\n",
    "       'Your favorite programming language?', 'Marital Status?',\n",
    "       'Are you Vaccinated?', 'Where do you live?',\n",
    "       'Research/Working experience (Float/Int) years',\n",
    "       'Height in cm? Freelancer- (Float)',\n",
    "       'How many hours you code a day? (int) e.g: 5,4,3',\n",
    "       'Light kitni der band hti hy? int'],axis=1)"
   ]
  },
  {
   "cell_type": "code",
   "execution_count": 5,
   "metadata": {},
   "outputs": [
    {
     "data": {
      "text/html": [
       "<div>\n",
       "<style scoped>\n",
       "    .dataframe tbody tr th:only-of-type {\n",
       "        vertical-align: middle;\n",
       "    }\n",
       "\n",
       "    .dataframe tbody tr th {\n",
       "        vertical-align: top;\n",
       "    }\n",
       "\n",
       "    .dataframe thead th {\n",
       "        text-align: right;\n",
       "    }\n",
       "</style>\n",
       "<table border=\"1\" class=\"dataframe\">\n",
       "  <thead>\n",
       "    <tr style=\"text-align: right;\">\n",
       "      <th></th>\n",
       "      <th>Age (years)-Float/Int</th>\n",
       "      <th>Your Weight in kg? (float)</th>\n",
       "    </tr>\n",
       "  </thead>\n",
       "  <tbody>\n",
       "    <tr>\n",
       "      <th>0</th>\n",
       "      <td>38.0</td>\n",
       "      <td>77.0</td>\n",
       "    </tr>\n",
       "    <tr>\n",
       "      <th>1</th>\n",
       "      <td>25.0</td>\n",
       "      <td>53.6</td>\n",
       "    </tr>\n",
       "  </tbody>\n",
       "</table>\n",
       "</div>"
      ],
      "text/plain": [
       "   Age (years)-Float/Int  Your Weight in kg? (float)\n",
       "0                   38.0                        77.0\n",
       "1                   25.0                        53.6"
      ]
     },
     "execution_count": 5,
     "metadata": {},
     "output_type": "execute_result"
    }
   ],
   "source": [
    "ds.head(2)"
   ]
  },
  {
   "cell_type": "code",
   "execution_count": 6,
   "metadata": {},
   "outputs": [
    {
     "data": {
      "text/plain": [
       "Index(['Age (years)-Float/Int', 'Your Weight in kg? (float)'], dtype='object')"
      ]
     },
     "execution_count": 6,
     "metadata": {},
     "output_type": "execute_result"
    }
   ],
   "source": [
    "ds.columns"
   ]
  },
  {
   "cell_type": "code",
   "execution_count": 7,
   "metadata": {},
   "outputs": [],
   "source": [
    "#assigning x and y from the dataset\n",
    "X = ds.iloc[:, :-1].values #get a copy of dataset exclude last column\n",
    "y = ds.iloc[:, 1].values #get array of dataset in column 1st"
   ]
  },
  {
   "cell_type": "code",
   "execution_count": 8,
   "metadata": {},
   "outputs": [],
   "source": [
    "# making 2d to scaler\n",
    "X =X.reshape(-1,1)\n",
    "y =y.reshape(-1,1)"
   ]
  },
  {
   "cell_type": "code",
   "execution_count": 9,
   "metadata": {},
   "outputs": [],
   "source": [
    "# Splitting the dataset into the Training set and Test set\n",
    "X_train, X_test, y_train, y_test = train_test_split(X, y, test_size=1/3, random_state=0)"
   ]
  },
  {
   "cell_type": "code",
   "execution_count": 10,
   "metadata": {},
   "outputs": [
    {
     "data": {
      "text/plain": [
       "LinearRegression()"
      ]
     },
     "execution_count": 10,
     "metadata": {},
     "output_type": "execute_result"
    }
   ],
   "source": [
    "# Fitting Simple Linear Regression to the Training set\n",
    "from sklearn.linear_model import LinearRegression\n",
    "regressor = LinearRegression()\n",
    "regressor.fit(X_train, y_train)"
   ]
  },
  {
   "cell_type": "code",
   "execution_count": 11,
   "metadata": {},
   "outputs": [
    {
     "data": {
      "image/png": "[encoded data removed]",
      "text/plain": [
       "<Figure size 432x288 with 1 Axes>"
      ]
     },
     "metadata": {
      "needs_background": "light"
     },
     "output_type": "display_data"
    },
    {
     "data": {
      "image/png": "[encoded data removed]",
      "text/plain": [
       "<Figure size 432x288 with 1 Axes>"
      ]
     },
     "metadata": {
      "needs_background": "light"
     },
     "output_type": "display_data"
    }
   ],
   "source": [
    "# Visualizing the Training set results\n",
    "viz_train = plt\n",
    "viz_train.scatter(X_train, y_train, color='red')\n",
    "viz_train.plot(X_train, regressor.predict(X_train), color='blue')\n",
    "viz_train.title('class data ML')\n",
    "viz_train.xlabel('age')\n",
    "viz_train.ylabel('weight')\n",
    "viz_train.show()\n",
    "\n",
    "# Visualizing the Test set results\n",
    "viz_test = plt\n",
    "viz_test.scatter(X_test, y_test, color='red')\n",
    "viz_test.plot(X_train, regressor.predict(X_train), color='blue')\n",
    "viz_test.title('class data ML')\n",
    "viz_test.xlabel('age')\n",
    "viz_test.ylabel('weight')\n",
    "viz_test.show()"
   ]
  },
  {
   "cell_type": "code",
   "execution_count": 12,
   "metadata": {},
   "outputs": [
    {
     "data": {
      "text/plain": [
       "array([[64.18370591]])"
      ]
     },
     "execution_count": 12,
     "metadata": {},
     "output_type": "execute_result"
    }
   ],
   "source": [
    "# Predicting the result of 5 Years Experience\n",
    "y_pred = regressor.predict(np.array([20]).reshape(1, 1))\n",
    "y_pred"
   ]
  },
  {
   "cell_type": "code",
   "execution_count": 13,
   "metadata": {},
   "outputs": [
    {
     "data": {
      "text/plain": [
       "array([[ 64.18370591],\n",
       "       [ 74.62372241],\n",
       "       [ 68.35971251],\n",
       "       [ 71.86755805],\n",
       "       [ 67.66371141],\n",
       "       [ 66.27170921],\n",
       "       [ 66.27170921],\n",
       "       [ 66.96771031],\n",
       "       [ 66.9607503 ],\n",
       "       [ 68.56851284],\n",
       "       [ 73.92772131],\n",
       "       [ 69.75171471],\n",
       "       [ 64.87970701],\n",
       "       [ 65.57570811],\n",
       "       [ 66.27170921],\n",
       "       [ 70.44771581],\n",
       "       [ 75.31972351],\n",
       "       [ 66.96771031],\n",
       "       [ 64.87970701],\n",
       "       [ 76.01572461],\n",
       "       [ 68.35971251],\n",
       "       [ 67.17651064],\n",
       "       [ 67.66371141],\n",
       "       [ 72.18771856],\n",
       "       [ 66.55010965],\n",
       "       [ 67.66371141],\n",
       "       [ 67.80291163],\n",
       "       [ 65.57570811],\n",
       "       [ 50.26368392],\n",
       "       [ 67.66371141],\n",
       "       [ 70.44771581],\n",
       "       [ 65.57570811],\n",
       "       [ 71.14371691],\n",
       "       [ 68.35971251],\n",
       "       [ 63.48770481],\n",
       "       [ 69.75171471],\n",
       "       [ 69.75171471],\n",
       "       [ 66.96771031],\n",
       "       [ 67.66371141],\n",
       "       [ 71.14371691],\n",
       "       [ 70.44771581],\n",
       "       [ 69.05571361],\n",
       "       [ 68.35971251],\n",
       "       [ 71.83971801],\n",
       "       [ 73.05771993],\n",
       "       [ 67.66371141],\n",
       "       [ 64.18370591],\n",
       "       [ 73.23172021],\n",
       "       [ 75.31972351],\n",
       "       [ 71.00451669],\n",
       "       [ 66.27170921],\n",
       "       [ 69.05571361],\n",
       "       [ 70.44771581],\n",
       "       [ 63.48770481],\n",
       "       [ 68.70771306],\n",
       "       [ 64.87970701],\n",
       "       [ 69.75171471],\n",
       "       [ 71.83971801],\n",
       "       [ 72.53571911],\n",
       "       [ 67.66371141],\n",
       "       [ 63.48770481],\n",
       "       [ 64.18370591],\n",
       "       [ 64.87970701],\n",
       "       [ 70.44771581],\n",
       "       [ 74.5541223 ],\n",
       "       [ 68.35971251],\n",
       "       [ 76.7117257 ],\n",
       "       [ 71.14371691],\n",
       "       [ 64.18370591],\n",
       "       [ 65.57570811],\n",
       "       [ 68.35971251],\n",
       "       [ 74.62372241],\n",
       "       [ 65.71490833],\n",
       "       [ 67.66371141],\n",
       "       [ 68.35971251],\n",
       "       [ 71.83971801],\n",
       "       [ 67.66371141],\n",
       "       [ 64.87970701],\n",
       "       [ 69.75171471],\n",
       "       [ 69.57771443],\n",
       "       [ 71.49171746],\n",
       "       [ 66.27170921],\n",
       "       [ 65.57570811],\n",
       "       [ 67.66371141],\n",
       "       [ 68.43627263],\n",
       "       [ 69.05571361],\n",
       "       [ 73.23172021],\n",
       "       [ 69.75171471],\n",
       "       [ 73.23172021],\n",
       "       [ 69.05571361],\n",
       "       [ 79.4957301 ],\n",
       "       [ 66.96771031],\n",
       "       [ 72.53571911],\n",
       "       [ 70.44771581],\n",
       "       [ 50.26368392],\n",
       "       [ 70.44771581],\n",
       "       [ 80.1917312 ],\n",
       "       [ 64.87970701],\n",
       "       [ 66.27170921],\n",
       "       [ 70.44771581],\n",
       "       [ 72.53571911],\n",
       "       [ 65.57570811],\n",
       "       [ 69.05571361],\n",
       "       [ 69.75171471],\n",
       "       [ 70.44771581],\n",
       "       [ 69.75171471],\n",
       "       [112.90378289],\n",
       "       [ 69.75171471],\n",
       "       [ 80.1917312 ],\n",
       "       [ 68.70771306],\n",
       "       [ 67.66371141],\n",
       "       [ 73.23172021],\n",
       "       [ 72.53571911],\n",
       "       [ 68.35971251],\n",
       "       [ 69.05571361],\n",
       "       [ 69.05571361],\n",
       "       [ 68.35971251],\n",
       "       [ 68.35971251],\n",
       "       [ 60.14689953],\n",
       "       [ 64.87970701],\n",
       "       [ 67.66371141],\n",
       "       [ 70.44771581],\n",
       "       [ 76.01572461],\n",
       "       [ 51.65568612],\n",
       "       [ 68.35971251]])"
      ]
     },
     "execution_count": 13,
     "metadata": {},
     "output_type": "execute_result"
    }
   ],
   "source": [
    "# Predicting the Test set results\n",
    "y_pred = regressor.predict(X_test)\n",
    "y_pred"
   ]
  }
 ],
 "metadata": {
  "interpreter": {
   "hash": "97add1490c5f01135f3bb7e94642f4624b587c7043609d018f9a7eb9f44698e7"
  },
  "kernelspec": {
   "display_name": "Python 3.10.1 64-bit",
   "language": "python",
   "name": "python3"
  },
  "language_info": {
   "codemirror_mode": {
    "name": "ipython",
    "version": 3
   },
   "file_extension": ".py",
   "mimetype": "text/x-python",
   "name": "python",
   "nbconvert_exporter": "python",
   "pygments_lexer": "ipython3",
   "version": "3.10.1"
  },
  "orig_nbformat": 4
 },
 "nbformat": 4,
 "nbformat_minor": 2
}
